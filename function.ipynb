{
 "cells": [
  {
   "cell_type": "code",
   "execution_count": 1,
   "metadata": {},
   "outputs": [
    {
     "name": "stdout",
     "output_type": "stream",
     "text": [
      "How much is your original bill: 100\n",
      "What percentage is your tip: 15\n"
     ]
    }
   ],
   "source": [
    "x = float(input(\"How much is your original bill: \"))\n",
    "y = float(input(\"What percentage is your tip: \"))"
   ]
  },
  {
   "cell_type": "code",
   "execution_count": 2,
   "metadata": {},
   "outputs": [
    {
     "name": "stdout",
     "output_type": "stream",
     "text": [
      "Your tip based on 15.0% is 15.0\n",
      "Your total bill is 115.0\n"
     ]
    }
   ],
   "source": [
    "tip = x * y/100\n",
    "amount = tip + x \n",
    "print(f\"Your tip based on {y}% is {tip}\")\n",
    "print(f\"Your total bill is {amount}\")"
   ]
  },
  {
   "cell_type": "code",
   "execution_count": null,
   "metadata": {},
   "outputs": [],
   "source": []
  }
 ],
 "metadata": {
  "kernelspec": {
   "display_name": "Python 3",
   "language": "python",
   "name": "python3"
  },
  "language_info": {
   "codemirror_mode": {
    "name": "ipython",
    "version": 3
   },
   "file_extension": ".py",
   "mimetype": "text/x-python",
   "name": "python",
   "nbconvert_exporter": "python",
   "pygments_lexer": "ipython3",
   "version": "3.7.6"
  }
 },
 "nbformat": 4,
 "nbformat_minor": 4
}
